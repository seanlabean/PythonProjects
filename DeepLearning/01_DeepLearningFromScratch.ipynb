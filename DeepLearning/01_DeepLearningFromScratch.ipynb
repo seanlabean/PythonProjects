{
 "cells": [
  {
   "cell_type": "markdown",
   "metadata": {},
   "source": [
    "# Foundations\n"
   ]
  },
  {
   "cell_type": "markdown",
   "metadata": {},
   "source": [
    "## Functions\n",
    "\n",
    "I want to at least give myself some context as to the author's coding \"accent\".\n",
    "The author uses a way of defining Python functions that I have not been exposed to before.\n",
    "It seems straightforward but still took me a second to understand.\n",
    "\n",
    "Take the square function definition line:\n",
    "\n",
    "`def square(x: ndarray) -> ndarray:`\n",
    "\n",
    "This denotes that the input (x) must be a numpy ndarray and that the function outputs and ndarray. A more complicated nested function example can be seen in the deriv function line:\n",
    "\n",
    "`def deriv(func: Callable[[ndarray], ndarray], input_: ndarray, diff: float=0.001) -> ndarray`\n",
    "\n",
    "So the function deriv takes an input \"func\" which is defined as a datatype Callable (typically another function) which itself takes an ndarray input and outputs an ndarray. deriv takes another input called input_ which must be an ndarray, an arg diff which is set to a float datatype of value 0.001. deriv then outputs ndarray."
   ]
  },
  {
   "cell_type": "code",
   "execution_count": 1,
   "metadata": {},
   "outputs": [],
   "source": [
    "import matplotlib.pyplot as plt\n",
    "import matplotlib\n",
    "import numpy as np\n",
    "from numpy import ndarray\n",
    "%matplotlib inline\n",
    "\n",
    "from typing import Callable\n",
    "from typing import Dict\n",
    "from typing import Callable\n",
    "\n",
    "\n",
    "def square(x: ndarray) -> ndarray:\n",
    "    '''\n",
    "    Square each element in the input ndarray.\n",
    "    '''\n",
    "    return np.power(x, 2)\n",
    "\n",
    "def deriv(func: Callable[[ndarray], ndarray],\n",
    "          input_: ndarray,\n",
    "          diff: float = 0.001) -> ndarray:\n",
    "    '''\n",
    "    Evaluates the derivative of a function \"func\" at every element in the \"input_\" array.\n",
    "    '''\n",
    "    return (func(input_ + diff) - func(input_ - diff)) / (2 * diff)"
   ]
  },
  {
   "cell_type": "code",
   "execution_count": 15,
   "metadata": {},
   "outputs": [
    {
     "name": "stdout",
     "output_type": "stream",
     "text": [
      "[-10.  -8.  -6.  -4.  -2.   0.   2.   4.   6.   8.]\n"
     ]
    },
    {
     "data": {
      "image/png": "[encoded data removed]",
      "text/plain": [
       "<Figure size 432x288 with 1 Axes>"
      ]
     },
     "metadata": {
      "needs_background": "light"
     },
     "output_type": "display_data"
    }
   ],
   "source": [
    "x = np.arange(-5, 5, 1)\n",
    "\n",
    "div_square = deriv(square, x)\n",
    "print(div_square)\n",
    "plt.plot(x, div_square, label='deriv')\n",
    "plt.plot(x, square(x), label='x$^2$')\n",
    "plt.plot(x, np.zeros(len(x)), lw=0.5, label='0')\n",
    "plt.grid(alpha=0.2)\n",
    "plt.legend()\n",
    "plt.show()"
   ]
  },
  {
   "cell_type": "code",
   "execution_count": null,
   "metadata": {},
   "outputs": [],
   "source": []
  }
 ],
 "metadata": {
  "kernelspec": {
   "display_name": "Python 3",
   "language": "python",
   "name": "python3"
  },
  "language_info": {
   "codemirror_mode": {
    "name": "ipython",
    "version": 3
   },
   "file_extension": ".py",
   "mimetype": "text/x-python",
   "name": "python",
   "nbconvert_exporter": "python",
   "pygments_lexer": "ipython3",
   "version": "3.7.7"
  }
 },
 "nbformat": 4,
 "nbformat_minor": 4
}
