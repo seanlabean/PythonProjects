{
 "cells": [
  {
   "cell_type": "code",
   "execution_count": 1,
   "metadata": {},
   "outputs": [],
   "source": [
    "import os"
   ]
  },
  {
   "cell_type": "code",
   "execution_count": 20,
   "metadata": {},
   "outputs": [],
   "source": [
    "output_dir = './output'\n",
    "file_name = '/testing.txt'\n",
    "overwrite = True\n",
    "\n",
    "def write_to_file(output_dir, file_name):\n",
    "    new_test_file = open(output_dir+file_name, 'a+')\n",
    "\n",
    "    new_test_file.write(\"\\nTesting Testing 1 2 3\")\n",
    "    # At this point the file will have been created, but nothing officially written to it until we close it!\n",
    "\n",
    "    new_test_file.close()\n",
    "    print('Wrote file:', output_dir+file_name)\n",
    "    #There we go, all written!\n",
    "\n",
    "def check_if_file_exists(output_dir, file_name):\n",
    "    file_path = output_dir+file_name\n",
    "    if os.path.exists(file_path):\n",
    "        os.remove(file_path)\n",
    "        print('Removed file:', file_path)\n",
    "    else:\n",
    "        print(\"File does not yet exist, continuing...\")\n",
    "    "
   ]
  },
  {
   "cell_type": "code",
   "execution_count": 21,
   "metadata": {},
   "outputs": [
    {
     "name": "stdout",
     "output_type": "stream",
     "text": [
      "Removed file: ./output/testing.txt\n",
      "Wrote file: ./output/testing.txt\n"
     ]
    }
   ],
   "source": [
    "if(overwrite):\n",
    "    check_if_file_exists(output_dir, file_name)\n",
    "else:\n",
    "    None\n",
    "write_to_file(output_dir, file_name)"
   ]
  },
  {
   "cell_type": "code",
   "execution_count": 13,
   "metadata": {},
   "outputs": [
    {
     "name": "stdout",
     "output_type": "stream",
     "text": [
      "Wrote file: ./output/testing.txt\n"
     ]
    }
   ],
   "source": [
    "write_to_file(output_dir, file_name)"
   ]
  },
  {
   "cell_type": "code",
   "execution_count": 22,
   "metadata": {},
   "outputs": [],
   "source": [
    "from os import path, remove"
   ]
  },
  {
   "cell_type": "code",
   "execution_count": 23,
   "metadata": {},
   "outputs": [
    {
     "name": "stdout",
     "output_type": "stream",
     "text": [
      "overwrite=True\n"
     ]
    }
   ],
   "source": [
    "test = True\n",
    "print('overwrite={}'.format(test))"
   ]
  },
  {
   "cell_type": "code",
   "execution_count": null,
   "metadata": {},
   "outputs": [],
   "source": []
  }
 ],
 "metadata": {
  "kernelspec": {
   "display_name": "Python 3",
   "language": "python",
   "name": "python3"
  },
  "language_info": {
   "codemirror_mode": {
    "name": "ipython",
    "version": 3
   },
   "file_extension": ".py",
   "mimetype": "text/x-python",
   "name": "python",
   "nbconvert_exporter": "python",
   "pygments_lexer": "ipython3",
   "version": "3.7.7"
  }
 },
 "nbformat": 4,
 "nbformat_minor": 4
}
