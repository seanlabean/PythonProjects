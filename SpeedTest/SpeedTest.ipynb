{
 "cells": [
  {
   "cell_type": "markdown",
   "metadata": {},
   "source": [
    "A few options for testing upload and download speeds. This notebook serves as a test bed for the methods that will be put into a .py script later on. These methods are modified from "
   ]
  },
  {
   "cell_type": "code",
   "execution_count": 14,
   "metadata": {},
   "outputs": [],
   "source": [
    "import pyspeedtest\n",
    "def test():\n",
    "    s = pyspeedtest.SpeedTest()\n",
    "    #s.get_servers()\n",
    "    #s.get_best_server()\n",
    "    res = {'download':0.0,\n",
    "          'upload':0.0,\n",
    "          'ping':0.0}\n",
    "    res['download'] = s.download()\n",
    "    res['upload'] = s.upload()\n",
    "    return res[\"download\"], res[\"upload\"]\n",
    "def main():\n",
    "    task = raw_input(\"Output to csv, txt, or print? \")\n",
    "    if task == 'csv':\n",
    "        # write to csv\n",
    "        with open('file.csv', 'w') as f:\n",
    "            f.write('download,upload,ping\\n')\n",
    "            for i in range(3):\n",
    "                print('Making test #{}'.format(i+1))\n",
    "                d, u = test()\n",
    "                f.write('{},{}\\n'.format(d, u))\n",
    "    if task == 'txt':\n",
    "        # pretty write to txt file\n",
    "        with open('file.txt', 'w') as f:\n",
    "            for i in range(3):\n",
    "                print('Making test #{}'.format(i+1))\n",
    "                d, u = test()\n",
    "                f.write('Test #{}\\n'.format(i+1))\n",
    "                f.write('Download: {:.2f} Kb/s\\n'.format(d / 1024))\n",
    "                f.write('Upload: {:.2f} Kb/s\\n'.format(u / 1024))\n",
    "    if task == 'print':\n",
    "        # simply print in needed format if you want to use pipe-style: python script.py > file\n",
    "        for i in range(3):\n",
    "            d, u = test()\n",
    "            print('Test #{}\\n'.format(i+1))\n",
    "            print('Download: {:.2f} Kb/s\\n'.format(d / 1024))\n",
    "            print('Upload: {:.2f} Kb/s\\n'.format(u / 1024))"
   ]
  },
  {
   "cell_type": "code",
   "execution_count": 15,
   "metadata": {},
   "outputs": [
    {
     "name": "stdout",
     "output_type": "stream",
     "text": [
      "Output to csv, txt, or print? print\n",
      "Test #1\n",
      "\n",
      "Download: 133084.57 Kb/s\n",
      "\n",
      "Upload: 40470.46 Kb/s\n",
      "\n",
      "Test #2\n",
      "\n",
      "Download: 136795.33 Kb/s\n",
      "\n",
      "Upload: 40470.82 Kb/s\n",
      "\n",
      "Test #3\n",
      "\n",
      "Download: 119245.10 Kb/s\n",
      "\n",
      "Upload: 38461.83 Kb/s\n",
      "\n"
     ]
    }
   ],
   "source": [
    "main()"
   ]
  },
  {
   "cell_type": "code",
   "execution_count": 9,
   "metadata": {},
   "outputs": [
    {
     "name": "stdout",
     "output_type": "stream",
     "text": [
      "{'download': 0.0, 'ping': 0.0, 'upload': 444.0}\n"
     ]
    }
   ],
   "source": [
    "res = {'download':0.0,\n",
    "        'upload':0.0,\n",
    "        'ping':0.0}\n",
    "res['upload'] = 444.0\n",
    "print res"
   ]
  },
  {
   "cell_type": "code",
   "execution_count": null,
   "metadata": {
    "collapsed": true
   },
   "outputs": [],
   "source": []
  }
 ],
 "metadata": {
  "kernelspec": {
   "display_name": "Python 2",
   "language": "python",
   "name": "python2"
  },
  "language_info": {
   "codemirror_mode": {
    "name": "ipython",
    "version": 2
   },
   "file_extension": ".py",
   "mimetype": "text/x-python",
   "name": "python",
   "nbconvert_exporter": "python",
   "pygments_lexer": "ipython2",
   "version": "2.7.3"
  }
 },
 "nbformat": 4,
 "nbformat_minor": 2
}
