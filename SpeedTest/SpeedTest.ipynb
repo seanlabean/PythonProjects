{
 "cells": [
  {
   "cell_type": "markdown",
   "metadata": {},
   "source": [
    "# Output download & upload to screen, .csv, or .txt\n",
    "\n",
    "A few options for testing upload and download speeds. This notebook serves as a test bed for the methods that will be put into a .py script later on. These methods are modified from suggestions made at https://stackoverflow.com/questions/48289636"
   ]
  },
  {
   "cell_type": "code",
   "execution_count": 24,
   "metadata": {},
   "outputs": [],
   "source": [
    "import pyspeedtest\n",
    "def test():\n",
    "    s = pyspeedtest.SpeedTest()\n",
    "    #s.get_servers()\n",
    "    #s.get_best_server()\n",
    "    res = {'download':0.0,\n",
    "          'upload':0.0,\n",
    "          'ping':0.0}\n",
    "    res['download'] = s.download()\n",
    "    res['upload'] = s.upload()\n",
    "    return res[\"download\"], res[\"upload\"]\n",
    "def main():\n",
    "    task = raw_input(\"Output to csv, txt, or print? \")\n",
    "    d_avg = 0.0\n",
    "    u_avg = 0.0\n",
    "    if task == 'csv':\n",
    "        # write to csv\n",
    "        with open('file.csv', 'a+') as f:\n",
    "            #f.write('download,upload\\n')\n",
    "            for i in range(3):\n",
    "                #print('Making test #{}'.format(i+1))\n",
    "                d, u = test()\n",
    "                d_avg += d\n",
    "                u_avg += u\n",
    "            d_avg = d_avg/3\n",
    "            u_avg = u_avg/3\n",
    "            f.write('{},{}\\n'.format(d_avg/(1024*1024), u_avg/(1024*1024)))\n",
    "    if task == 'txt':\n",
    "        # pretty write to txt file\n",
    "        with open('file.txt', 'a+') as f:\n",
    "            for i in range(3):\n",
    "                #print('Making test #{}'.format(i+1))\n",
    "                d, u = test()\n",
    "                d_avg += d\n",
    "                u_avg += u\n",
    "            d_avg = d_avg/3\n",
    "            u_avg = u_avg/3\n",
    "            f.write('{:.2f}, {:.2f}\\n'.format(d_avg/(1024*1024), u_avg/(1024*1024)))\n",
    "            \n",
    "    if task == 'print':\n",
    "        # simply print in needed format if you want to use pipe-style: python script.py > file\n",
    "        for i in range(3):\n",
    "            d, u = test()\n",
    "            d_avg += d\n",
    "            u_avg += u\n",
    "        d_avg = d_avg/3\n",
    "        u_avg = u_avg/3\n",
    "        print('Test #{}\\n'.format(i+1))\n",
    "        print('Download: {:.2f} Mb/s\\n'.format(d_avg / (1024*1024)))\n",
    "        print('Upload: {:.2f} Mb/s\\n'.format(u_avg / (1024*1024)))"
   ]
  },
  {
   "cell_type": "code",
   "execution_count": 25,
   "metadata": {},
   "outputs": [
    {
     "name": "stdout",
     "output_type": "stream",
     "text": [
      "Output to csv, txt, or print? txt\n"
     ]
    }
   ],
   "source": [
    "main()"
   ]
  },
  {
   "cell_type": "code",
   "execution_count": 9,
   "metadata": {},
   "outputs": [
    {
     "name": "stdout",
     "output_type": "stream",
     "text": [
      "{'download': 0.0, 'ping': 0.0, 'upload': 444.0}\n"
     ]
    }
   ],
   "source": [
    "res = {'download':0.0,\n",
    "        'upload':0.0,\n",
    "        'ping':0.0}\n",
    "res['upload'] = 444.0\n",
    "print res"
   ]
  },
  {
   "cell_type": "code",
   "execution_count": null,
   "metadata": {
    "collapsed": true
   },
   "outputs": [],
   "source": []
  }
 ],
 "metadata": {
  "kernelspec": {
   "display_name": "Python 2",
   "language": "python",
   "name": "python2"
  },
  "language_info": {
   "codemirror_mode": {
    "name": "ipython",
    "version": 2
   },
   "file_extension": ".py",
   "mimetype": "text/x-python",
   "name": "python",
   "nbconvert_exporter": "python",
   "pygments_lexer": "ipython2",
   "version": "2.7.3"
  }
 },
 "nbformat": 4,
 "nbformat_minor": 2
}
