{
 "cells": [
  {
   "cell_type": "code",
   "execution_count": 1,
   "metadata": {},
   "outputs": [],
   "source": [
    "from PIL import Image\n",
    "import numpy as np"
   ]
  },
  {
   "cell_type": "code",
   "execution_count": 2,
   "metadata": {},
   "outputs": [],
   "source": [
    "im = Image.open('/Users/sean/Downloads/spotted-lanternfly-nymphs-adults.jpg', 'r')\n",
    "pix_val = np.array(im.getdata())"
   ]
  },
  {
   "cell_type": "code",
   "execution_count": 3,
   "metadata": {},
   "outputs": [
    {
     "name": "stdout",
     "output_type": "stream",
     "text": [
      "<class 'numpy.ndarray'>\n",
      "(349700, 3)\n",
      "(650, 538)\n"
     ]
    }
   ],
   "source": [
    "print(type(pix_val))\n",
    "print(pix_val.shape)\n",
    "print(im.size)"
   ]
  },
  {
   "cell_type": "code",
   "execution_count": 4,
   "metadata": {},
   "outputs": [],
   "source": [
    "colrow = pix_val.reshape(im.size[0],im.size[1],3)"
   ]
  },
  {
   "cell_type": "code",
   "execution_count": 5,
   "metadata": {},
   "outputs": [
    {
     "name": "stdout",
     "output_type": "stream",
     "text": [
      "(650, 538, 3)\n"
     ]
    }
   ],
   "source": [
    "print(colrow.shape)"
   ]
  },
  {
   "cell_type": "code",
   "execution_count": 6,
   "metadata": {},
   "outputs": [
    {
     "name": "stdout",
     "output_type": "stream",
     "text": [
      "[238 211 190]\n"
     ]
    }
   ],
   "source": [
    "# This is a single column\n",
    "print(colrow[0][0])\n",
    "def calc_lum(a):\n",
    "    # Assumes a is of shape (3,)\n",
    "    return np.sqrt(0.299*a[0]**2 + 0.587*a[1]**2 + 0.114*a[2]**2)"
   ]
  },
  {
   "cell_type": "code",
   "execution_count": 7,
   "metadata": {},
   "outputs": [
    {
     "name": "stdout",
     "output_type": "stream",
     "text": [
      "(6, 3)\n",
      "[4 3 1 2 5 0]\n",
      "[[2 2 2]\n",
      " [1 1 1]\n",
      " [4 5 6]\n",
      " [7 8 9]\n",
      " [3 3 3]\n",
      " [1 2 3]]\n",
      "[[ 2  2  3]\n",
      " [ 8  5  6]\n",
      " [14  8  9]\n",
      " [ 2  1  1]\n",
      " [ 4  2  2]\n",
      " [ 6  3  3]]\n",
      "[ 7 19 31  4  8 12]\n"
     ]
    }
   ],
   "source": [
    "# https://stackoverflow.com/questions/1903462/how-can-i-zip-sort-parallel-numpy-arrays\n",
    "# I want to do something like this, generate an array (a) which can be easily sorted,\n",
    "# then use the sort order to sort the original array (b) by the same method.\n",
    "# Here, array (b) represents a single column of pixel data (r g b).\n",
    "b = np.array([[1,2,3], [4,5,6], [7,8,9], [1,1,1], [2,2,2], [3,3,3]])\n",
    "print(b.shape)\n",
    "a = np.array([6,3,4,2,1,5])\n",
    "print(a.argsort())\n",
    "print(b[a.argsort()])\n",
    "\n",
    "# Array (a) is calculated by manipulating and then summing the entries of array (b).\n",
    "# This is difficult to do all at once, but we can manipulate each column of the Nx3 array\n",
    "# and then sum the result along axis=1\n",
    "b[:,0] = b[:,0] * 2\n",
    "print(b)\n",
    "print(b.sum(axis=1))"
   ]
  },
  {
   "cell_type": "code",
   "execution_count": 15,
   "metadata": {
    "scrolled": true
   },
   "outputs": [
    {
     "name": "stdout",
     "output_type": "stream",
     "text": [
      "Sorting all pixels.\n",
      "Opening image...\n",
      "Get data...\n",
      "Time to load image:  0.02558612823486328\n",
      "Getting pixels...\n",
      "Time to get pixels:  0.20251226425170898\n",
      "Vectorized sorting pixels...\n",
      "Time to vectorized sort:  0.7173688411712646\n",
      "Placing pixels...\n",
      "Time to place pixels:  1.5200660228729248\n",
      "Saving image...\n",
      "2.74 seconds\n"
     ]
    }
   ],
   "source": [
    "from PIL import Image\n",
    "import random, sys\n",
    "from time import time\n",
    "\n",
    "def quicker_sort(pixels):\n",
    "    pixels = np.array(pixels)\n",
    "    pix_cpy = pixels.copy()\n",
    "    pix_cpy = pix_cpy.sum(axis=1)\n",
    "    return pixels[pix_cpy.argsort()]\n",
    "\n",
    "def quick_sort(pixels):\n",
    "    #Quicksort function that sorts pixels based on combined RGB values (R + B + G)\n",
    "    if pixels == []:\n",
    "        return pixels\n",
    "\n",
    "    else:\n",
    "        pivot = pixels[0]\n",
    "        lesser = quick_sort([x for x in pixels[1:] if (x[0] + x[1] + x[2]) < (pivot[0] + pivot[1] + pivot[2])])\n",
    "        greater = quick_sort([x for x in pixels[1:] if (x[0] + x[1] + x[2]) >= (pivot[0] + pivot[1] + pivot[2])])\n",
    "        return lesser + [pivot] + greater\n",
    "\n",
    "# def quick_sort_arr(pixels)\n",
    "#     if pixels == np.array([]):\n",
    "#         return pixels\n",
    "#     else:\n",
    "#         pivot = pixels[0]\n",
    "#         lesser \n",
    " \n",
    "def sort_all_pixels(image):\n",
    "    #sorts every line of pixels\n",
    "    print(\"Sorting all pixels.\")\n",
    "    \n",
    "    print(\"Opening image...\")\n",
    "    tick = time()\n",
    "    img = Image.open(image)\n",
    "    img = img.convert('RGBA')\n",
    "    print(\"Get data...\")\n",
    "    data = img.load()\n",
    "\n",
    "    new = Image.new('RGBA', img.size)\n",
    "    tock = time()\n",
    "    print(\"Time to load image: \", tock-tick)\n",
    "    \n",
    "    tick = time()\n",
    "    pixels = []\n",
    "    sorted_pixels = []\n",
    "    print(\"Getting pixels...\")\n",
    "    #Load all of the pixels into the pixels list\n",
    "    for y in range(img.size[1]):\n",
    "        pixels.append([])\n",
    "        for x in range(img.size[0]):\n",
    "            pixels[y].append(data[x, y])\n",
    "    tock = time()\n",
    "    print(\"Time to get pixels: \", tock-tick)\n",
    "\n",
    "    tick = time()\n",
    "    print(\"Vectorized sorting pixels...\")\n",
    "    for y in range(img.size[1]):\n",
    "        sorted_pixels.append(quicker_sort(pixels[y]))\n",
    "    tock = time()\n",
    "    print(\"Time to vectorized sort: \", tock-tick)\n",
    "    \n",
    "    tick = time()\n",
    "    print(\"Placing pixels...\")\n",
    "    for y in range(img.size[1]):\n",
    "        for x in range(img.size[0]):\n",
    "            #print(type(sorted_pixels[y][x]), \"done\")\n",
    "            new.putpixel((x, y), tuple(sorted_pixels[y][x])) #apply the pixels to the new image\n",
    "    tock = time()\n",
    "    print(\"Time to place pixels: \", tock-tick)\n",
    "    print(\"Saving image...\")\n",
    "    new.save('output-sortall-vectorized.png')\n",
    "\n",
    "tick = time()\n",
    "sys.setrecursionlimit(10000) #Increase the recursion depth limit. Without this, the script fails on larger images because quicksort recurses too much.\n",
    "sort_all_pixels(\"/Users/sean/Downloads/IMG_4783.jpg\")\n",
    "tock = time()\n",
    "print(\"{:.2f} seconds\".format(tock-tick))"
   ]
  },
  {
   "cell_type": "code",
   "execution_count": 16,
   "metadata": {},
   "outputs": [
    {
     "data": {
      "text/plain": [
       "669900"
      ]
     },
     "execution_count": 16,
     "metadata": {},
     "output_type": "execute_result"
    }
   ],
   "source": [
    "1100*609"
   ]
  },
  {
   "cell_type": "code",
   "execution_count": null,
   "metadata": {},
   "outputs": [],
   "source": [
    "def sort_all_pixels(image):\n",
    "    #sorts every line of pixels\n",
    "    print(\"Sorting all pixels.\")\n",
    "    \n",
    "    print(\"Opening image...\")\n",
    "    tick = time()\n",
    "    img = Image.open(image)\n",
    "    img = img.convert('RGBA')\n",
    "    print(\"Get data...\")\n",
    "    data = img.load()\n",
    "\n",
    "    new = Image.new('RGBA', img.size)\n",
    "    tock = time()\n",
    "    print(\"Time to load image: \", tock-tick)\n",
    "    \n",
    "    tick = time()\n",
    "    pixels = []\n",
    "    sorted_pixels = []\n",
    "    print(\"Getting pixels...\")\n",
    "    #Load all of the pixels into the pixels list\n",
    "    for y in range(img.size[1]):\n",
    "        pixels.append([])\n",
    "        for x in range(img.size[0]):\n",
    "            pixels[y].append(data[x, y])\n",
    "    tock = time()\n",
    "    print(\"Time to get pixels: \", tock-tick)\n",
    "\n",
    "    tick = time()\n",
    "    print(\"Recursively sorting pixels...\")\n",
    "    for y in range(img.size[1]):\n",
    "        sorted_pixels.append(quick_sort(pixels[y]))\n",
    "    tock = time()\n",
    "    print(\"Time to recursive sort: \", tock-tick)\n",
    "    \n",
    "    tick = time()\n",
    "    print(\"Placing pixels...\")\n",
    "    for y in range(img.size[1]):\n",
    "        for x in range(img.size[0]):\n",
    "            #print(type(sorted_pixels[y][x]), \"done\")\n",
    "            new.putpixel((x, y), tuple(sorted_pixels[y][x])) #apply the pixels to the new image\n",
    "    tock = time()\n",
    "    print(\"Time to place pixels: \", tock-tick)\n",
    "    print(\"Saving image...\")\n",
    "    new.save('output-sortall-recursive.png')\n",
    "    \n",
    "def random_sort_pixels(image, intensity):\n",
    "    #sorts pixels in a random fashion\n",
    "\n",
    "    if intensity > 100:\n",
    "        intensity = 100\n",
    "\n",
    "    print(\"Sorting \" + image + \" with intensity \" + str(intensity))\n",
    "\n",
    "    #Open the image, convert it to RGBA, get the pixels \n",
    "    print(\"Opening image...\")\n",
    "    img = Image.open(image)\n",
    "    img = img.convert('RGBA')\n",
    "    print(\"Get data...\")\n",
    "    data = img.load()\n",
    "\n",
    "    new = Image.new('RGBA', img.size)\n",
    "\n",
    "    pixels = []\n",
    "    sorted_pixels = []\n",
    "    print(\"Getting pixels...\")\n",
    "    #Load all of the pixels into the pixels list\n",
    "    for y in range(img.size[1]):\n",
    "        pixels.append([])\n",
    "        for x in range(img.size[0]):\n",
    "            pixels[y].append(data[x, y])\n",
    "\n",
    "    print(\"Quicksorting pixels...\")\n",
    "    for y in range(img.size[1]):\n",
    "        #pick different starting points for each line\n",
    "        if(random.randint(0, 100) > intensity):\n",
    "            sorted_pixels.append(pixels[y]) #Don't sort this line of pixels\n",
    "        else:\n",
    "            minsort = random.randint(3, len(pixels[y]) - 3) #pick the start of the sorted area on this pixel line\n",
    "            maxsort = random.randint(minsort, len(pixels[y]) - 1)# pick the end of the sorted area on this pixel line\n",
    "            sort = []\n",
    "            for x in range(minsort, maxsort):\n",
    "                sort.append(pixels[y][x]) \n",
    "\n",
    "            sort = quick_sort(sort) #sort the pixels by brightness\n",
    "\n",
    "            i = 0\n",
    "            for x in range(minsort, maxsort):\n",
    "                pixels[y][x] = sort[i]\n",
    "                i = i + 1\n",
    "\n",
    "            sorted_pixels.append(pixels[y])\n",
    "\n",
    "\n",
    "    print(\"Placing pixels...\")\n",
    "    for y in range(img.size[1]):\n",
    "        for x in range(img.size[0]):\n",
    "            new.putpixel((x, y), sorted_pixels[y][x]) #apply the pixels to the new image\n",
    "\n",
    "    print(\"Saving image...\")\n",
    "    new.save('output-sortrandom.png')\n",
    "\n",
    "def sort_pixels_pivot(image):\n",
    "    print (\"Sorting pixels on pivot.\")\n",
    "\n",
    "    #Open the image, convert it to RGBA, get the pixels \n",
    "    print(\"Opening image...\")\n",
    "    img = Image.open(image)\n",
    "    img = img.convert('RGBA')\n",
    "    print(\"Get data...\")\n",
    "    data = img.load()\n",
    "\n",
    "    new = Image.new('RGBA', img.size)\n",
    "\n",
    "    pixels = []\n",
    "    sorted_pixels = []\n",
    "    print(\"Getting pixels...\")\n",
    "    #Load all of the pixels into the pixels list\n",
    "    for y in range(img.size[1]):\n",
    "        pixels.append([])\n",
    "        for x in range(img.size[0]):\n",
    "            pixels[y].append(data[x, y])\n",
    "\n",
    "    print(\"Quicksorting pixels...\")\n",
    "\n",
    "    minsort = random.randint(3, img.size[0] - 3) #get sorting pivot\n",
    "    for y in range(img.size[1]):\n",
    "        maxsort = random.randint(minsort, len(pixels[y]) - 1) #pick the end of the sorted area on this pixel line\n",
    "        sort = []\n",
    "        for x in range(minsort, maxsort):\n",
    "            sort.append(pixels[y][x])\n",
    "        sort = quick_sort(sort) #sort the pixels by brightness\n",
    "\n",
    "        i = 0\n",
    "        for x in range(minsort, maxsort):\n",
    "            pixels[y][x] = sort[i]\n",
    "            i = i + 1\n",
    "\n",
    "        sorted_pixels.append(pixels[y])\n",
    "\n",
    "\n",
    "    print(\"Placing pixels...\")\n",
    "    for y in range(img.size[1]):\n",
    "        for x in range(img.size[0]):\n",
    "            new.putpixel((x, y), sorted_pixels[y][x]) #apply the pixels to the new image\n",
    "\n",
    "    print(\"Saving image...\")\n",
    "    new.save('output-sortpivot.png')\n",
    "    \n",
    "random_sort_pixels(\"/Users/sean/Downloads/spotted-lanternfly-nymphs-adults.jpg\", 100)\n",
    "sort_pixels_pivot(\"/Users/sean/Downloads/spotted-lanternfly-nymphs-adults.jpg\")"
   ]
  }
 ],
 "metadata": {
  "kernelspec": {
   "display_name": "Python 3",
   "language": "python",
   "name": "python3"
  },
  "language_info": {
   "codemirror_mode": {
    "name": "ipython",
    "version": 3
   },
   "file_extension": ".py",
   "mimetype": "text/x-python",
   "name": "python",
   "nbconvert_exporter": "python",
   "pygments_lexer": "ipython3",
   "version": "3.7.7"
  }
 },
 "nbformat": 4,
 "nbformat_minor": 4
}
