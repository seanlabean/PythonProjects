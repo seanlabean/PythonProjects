{
 "cells": [
  {
   "cell_type": "markdown",
   "metadata": {},
   "source": [
    "# Pixel Sorter\n",
    "I found a simple pixel sorting algorithm written in 2014 by ProphetGoddess (PG): https://gist.github.com/prophetgoddess/667c5554e5d9d9a25ae6 which provides 3 sorting methods: absolute, random row sort, and pivot sort.\n",
    "\n",
    "Each of these methods rely on PG's `quick_sort` algorithm which iteratively removes and appends pixels in a row depending on the pixel brightness. The use of Python lists in this algo results in a painfully slow process, so I chose this as the first place to implement an improvement. By relying on the vectorized properties and \"in-place\" methods of `numpy` I can expect a heafty speedup.\n",
    "\n",
    "The libraries I need to use are the P(ython)I(mage)L(ibrary) and NumPy."
   ]
  },
  {
   "cell_type": "code",
   "execution_count": 9,
   "metadata": {},
   "outputs": [],
   "source": [
    "from PIL import Image\n",
    "import numpy as np"
   ]
  },
  {
   "cell_type": "markdown",
   "metadata": {},
   "source": [
    "First, I can read-in the image data as a 3xN array of RGB values for each of N pixels."
   ]
  },
  {
   "cell_type": "code",
   "execution_count": 53,
   "metadata": {},
   "outputs": [
    {
     "name": "stdout",
     "output_type": "stream",
     "text": [
      "[139 139 139 ...  13  15  15]\n",
      "pixel data shape: (2073600,)\n",
      "image dimensions: (1920, 1080)\n"
     ]
    }
   ],
   "source": [
    "im = Image.open('./sonoshee_wp.png', 'r')\n",
    "pix_val = np.array(im.getdata())\n",
    "print(pix_val)\n",
    "print(\"pixel data shape:\",pix_val.shape)\n",
    "print(\"image dimensions:\",im.size)"
   ]
  },
  {
   "cell_type": "markdown",
   "metadata": {},
   "source": [
    "Next I want to sort the pixel dimensions based on a function of each pixels' RGB values. To do this, I first need to create a copy of the array, perform the RGB function (effectively zipping the (N\\*M,3) array into (N\\*M,1) then reorganize the original pixel data based on the sort order of this collapsed array.\n",
    "\n",
    "This method of sorting was inspired by [this stackoverflow post](https://stackoverflow.com/questions/1903462/how-can-i-zip-sort-parallel-numpy-arrays).\n",
    "\n",
    "TODO: I'd like to pass an option to flip the pixel data and its collapsed copy so that I can choose to sort by column or row."
   ]
  },
  {
   "cell_type": "code",
   "execution_count": 43,
   "metadata": {},
   "outputs": [
    {
     "name": "stdout",
     "output_type": "stream",
     "text": [
      "(1920000,) [275 275 275 ... 275 275 275]\n",
      "reshaped pixel data: (1920000, 3)\n",
      "[[119   0   0]\n",
      " [119   0   0]\n",
      " [  0 119   0]\n",
      " ...\n",
      " [221 255 238]\n",
      " [221 255 238]\n",
      " [221 255 238]]\n"
     ]
    }
   ],
   "source": [
    "def quicker_sort(pixels):\n",
    "    pixels = np.array(pixels)\n",
    "    pix_cpy = pixels.copy()\n",
    "    pix_cpy = pix_cpy.sum(axis=1)\n",
    "    return pixels[pix_cpy.argsort()]\n",
    "\n",
    "sorted_pix_val = quicker_sort(pix_val)\n",
    "print(\"reshaped pixel data:\", sorted_pix_val.shape)\n",
    "print(sorted_pix_val)"
   ]
  },
  {
   "cell_type": "code",
   "execution_count": null,
   "metadata": {},
   "outputs": [],
   "source": []
  },
  {
   "cell_type": "markdown",
   "metadata": {},
   "source": [
    "I want to make sure the pixel data actually reflects the true dimensionality/organization of the source image. I can reshape the pixel data accordingly, resulting in a 3D NxMx3 matrix."
   ]
  },
  {
   "cell_type": "code",
   "execution_count": 44,
   "metadata": {},
   "outputs": [
    {
     "name": "stdout",
     "output_type": "stream",
     "text": [
      "reshaped pixel data: (1200, 1600, 3)\n"
     ]
    }
   ],
   "source": [
    "colrow = sorted_pix_val.reshape(im.size[0],im.size[1],3)\n",
    "print(\"reshaped pixel data:\", colrow.shape)"
   ]
  },
  {
   "cell_type": "code",
   "execution_count": 45,
   "metadata": {
    "tags": []
   },
   "outputs": [],
   "source": [
    "new = Image.fromarray(colrow.astype('uint8'), 'RGB')\n",
    "new.save('test_sort.png')"
   ]
  },
  {
   "cell_type": "markdown",
   "metadata": {},
   "source": [
    "This works great, but is really just a long ordered list of pixels (which makes sense as all I've done is  sort the pixels as a massive (N\\*M,3) array and reshaped into the orignial image shape. Let's instead try to do this sorting for each row of the source image."
   ]
  },
  {
   "cell_type": "code",
   "execution_count": 94,
   "metadata": {
    "tags": []
   },
   "outputs": [
    {
     "name": "stdout",
     "output_type": "stream",
     "text": [
      "(1600,) [275 275 275 ... 275 275 275]\n",
      "(1600, 3) [[  0  46 229]\n",
      " [  0  46 229]\n",
      " [  0  46 229]\n",
      " ...\n",
      " [  0  46 229]\n",
      " [  0  46 229]\n",
      " [  0  46 229]]\n"
     ]
    }
   ],
   "source": [
    "im = Image.open('./test_sort.png', 'r')\n",
    "pix_val = np.array(im.getdata())\n",
    "colrow = pix_val.reshape(im.size[0],im.size[1],3)\n",
    "\n",
    "sort = quicker_sort(colrow[:,0])\n",
    "print(sort.shape, sort)"
   ]
  },
  {
   "cell_type": "code",
   "execution_count": 95,
   "metadata": {
    "tags": []
   },
   "outputs": [],
   "source": [
    "new = Image.fromarray(colrow.astype('uint8'), 'RGB')\n",
    "new.save('test_sort.png')"
   ]
  },
  {
   "cell_type": "code",
   "execution_count": 96,
   "metadata": {
    "tags": []
   },
   "outputs": [
    {
     "name": "stdout",
     "output_type": "stream",
     "text": [
      "(1600, 3)\n"
     ]
    }
   ],
   "source": [
    "print(colrow[:,0].shape)"
   ]
  },
  {
   "cell_type": "code",
   "execution_count": null,
   "metadata": {},
   "outputs": [],
   "source": []
  },
  {
   "cell_type": "code",
   "execution_count": null,
   "metadata": {},
   "outputs": [],
   "source": []
  },
  {
   "cell_type": "code",
   "execution_count": 46,
   "metadata": {
    "tags": []
   },
   "outputs": [],
   "source": [
    "from PIL import Image\n",
    "import numpy as np\n"
   ]
  },
  {
   "cell_type": "code",
   "execution_count": 4,
   "metadata": {
    "tags": []
   },
   "outputs": [],
   "source": [
    "im = Image.open('/Users/aleph/Downloads/IMG_4634.JPEG', 'r')\n",
    "pix_val = np.array(im.getdata())"
   ]
  },
  {
   "cell_type": "code",
   "execution_count": 3,
   "metadata": {},
   "outputs": [
    {
     "name": "stdout",
     "output_type": "stream",
     "text": [
      "<class 'numpy.ndarray'>\n",
      "(349700, 3)\n",
      "(650, 538)\n"
     ]
    }
   ],
   "source": [
    "print(type(pix_val))\n",
    "print(pix_val.shape)\n",
    "print(im.size)"
   ]
  },
  {
   "cell_type": "code",
   "execution_count": 4,
   "metadata": {},
   "outputs": [],
   "source": [
    "colrow = pix_val.reshape(im.size[0],im.size[1],3)"
   ]
  },
  {
   "cell_type": "code",
   "execution_count": 5,
   "metadata": {},
   "outputs": [
    {
     "name": "stdout",
     "output_type": "stream",
     "text": [
      "(650, 538, 3)\n"
     ]
    }
   ],
   "source": [
    "print(colrow.shape)"
   ]
  },
  {
   "cell_type": "code",
   "execution_count": 6,
   "metadata": {},
   "outputs": [
    {
     "name": "stdout",
     "output_type": "stream",
     "text": [
      "[238 211 190]\n"
     ]
    }
   ],
   "source": [
    "# This is a single column\n",
    "print(colrow[0][0])\n",
    "def calc_lum(a):\n",
    "    # Assumes a is of shape (3,)\n",
    "    return np.sqrt(0.299*a[0]**2 + 0.587*a[1]**2 + 0.114*a[2]**2)"
   ]
  },
  {
   "cell_type": "code",
   "execution_count": 7,
   "metadata": {},
   "outputs": [
    {
     "name": "stdout",
     "output_type": "stream",
     "text": [
      "(6, 3)\n",
      "[4 3 1 2 5 0]\n",
      "[[2 2 2]\n",
      " [1 1 1]\n",
      " [4 5 6]\n",
      " [7 8 9]\n",
      " [3 3 3]\n",
      " [1 2 3]]\n",
      "[[ 2  2  3]\n",
      " [ 8  5  6]\n",
      " [14  8  9]\n",
      " [ 2  1  1]\n",
      " [ 4  2  2]\n",
      " [ 6  3  3]]\n",
      "[ 7 19 31  4  8 12]\n"
     ]
    }
   ],
   "source": [
    "# https://stackoverflow.com/questions/1903462/how-can-i-zip-sort-parallel-numpy-arrays\n",
    "# I want to do something like this, generate an array (a) which can be easily sorted,\n",
    "# then use the sort order to sort the original array (b) by the same method.\n",
    "# Here, array (b) represents a single column of pixel data (r g b).\n",
    "b = np.array([[1,2,3], [4,5,6], [7,8,9], [1,1,1], [2,2,2], [3,3,3]])\n",
    "print(b.shape)\n",
    "a = np.array([6,3,4,2,1,5])\n",
    "print(a.argsort())\n",
    "print(b[a.argsort()])\n",
    "\n",
    "# Array (a) is calculated by manipulating and then summing the entries of array (b).\n",
    "# This is difficult to do all at once, but we can manipulate each column of the Nx3 array\n",
    "# and then sum the result along axis=1\n",
    "b[:,0] = b[:,0] * 2\n",
    "print(b)\n",
    "print(b.sum(axis=1))"
   ]
  },
  {
   "cell_type": "code",
   "execution_count": 8,
   "metadata": {
    "scrolled": true,
    "tags": []
   },
   "outputs": [
    {
     "name": "stdout",
     "output_type": "stream",
     "text": [
      "Sorting all pixels.\n",
      "Opening image...\n",
      "Get data...\n",
      "Time to load image:  0.0026979446411132812\n",
      "Getting pixels...\n",
      "Time to get pixels:  0.01676011085510254\n",
      "Vectorized sorting pixels...\n",
      "Time to vectorized sort:  0.022541046142578125\n",
      "Placing pixels...\n",
      "Time to place pixels:  0.15334606170654297\n",
      "Saving image...\n",
      "0.23 seconds\n"
     ]
    },
    {
     "ename": "TypeError",
     "evalue": "color must be int or tuple",
     "output_type": "error",
     "traceback": [
      "\u001b[0;31m---------------------------------------------------------------------------\u001b[0m",
      "\u001b[0;31mTypeError\u001b[0m                                 Traceback (most recent call last)",
      "Cell \u001b[0;32mIn[8], line 93\u001b[0m\n\u001b[1;32m     91\u001b[0m tock \u001b[38;5;241m=\u001b[39m time()\n\u001b[1;32m     92\u001b[0m \u001b[38;5;28mprint\u001b[39m(\u001b[38;5;124m\"\u001b[39m\u001b[38;5;132;01m{:.2f}\u001b[39;00m\u001b[38;5;124m seconds\u001b[39m\u001b[38;5;124m\"\u001b[39m\u001b[38;5;241m.\u001b[39mformat(tock\u001b[38;5;241m-\u001b[39mtick))\n\u001b[0;32m---> 93\u001b[0m \u001b[43msort_all\u001b[49m\u001b[43m(\u001b[49m\u001b[38;5;124;43m\"\u001b[39;49m\u001b[38;5;124;43m/Users/aleph/Downloads/IMG_4634.JPEG\u001b[39;49m\u001b[38;5;124;43m\"\u001b[39;49m\u001b[43m)\u001b[49m\n",
      "Cell \u001b[0;32mIn[8], line 37\u001b[0m, in \u001b[0;36msort_all\u001b[0;34m(image)\u001b[0m\n\u001b[1;32m     35\u001b[0m sorted_pixels \u001b[38;5;241m=\u001b[39m quicker_sort(pixels)\n\u001b[1;32m     36\u001b[0m \u001b[38;5;66;03m#print(sorted_pixels)\u001b[39;00m\n\u001b[0;32m---> 37\u001b[0m \u001b[43mnew\u001b[49m\u001b[38;5;241;43m.\u001b[39;49m\u001b[43mputdata\u001b[49m\u001b[43m(\u001b[49m\u001b[43msorted_pixels\u001b[49m\u001b[43m)\u001b[49m\n\u001b[1;32m     38\u001b[0m new\u001b[38;5;241m.\u001b[39msave(\u001b[38;5;124m'\u001b[39m\u001b[38;5;124moutput-sortall-vectorized.png\u001b[39m\u001b[38;5;124m'\u001b[39m)\n\u001b[1;32m     39\u001b[0m \u001b[38;5;28;01mreturn\u001b[39;00m\n",
      "File \u001b[0;32m~/Library/Python/3.8/lib/python/site-packages/PIL/Image.py:1908\u001b[0m, in \u001b[0;36mImage.putdata\u001b[0;34m(self, data, scale, offset)\u001b[0m\n\u001b[1;32m   1893\u001b[0m \u001b[38;5;250m\u001b[39m\u001b[38;5;124;03m\"\"\"\u001b[39;00m\n\u001b[1;32m   1894\u001b[0m \u001b[38;5;124;03mCopies pixel data from a flattened sequence object into the image. The\u001b[39;00m\n\u001b[1;32m   1895\u001b[0m \u001b[38;5;124;03mvalues should start at the upper left corner (0, 0), continue to the\u001b[39;00m\n\u001b[0;32m   (...)\u001b[0m\n\u001b[1;32m   1903\u001b[0m \u001b[38;5;124;03m:param offset: An optional offset value.  The default is 0.0.\u001b[39;00m\n\u001b[1;32m   1904\u001b[0m \u001b[38;5;124;03m\"\"\"\u001b[39;00m\n\u001b[1;32m   1906\u001b[0m \u001b[38;5;28mself\u001b[39m\u001b[38;5;241m.\u001b[39m_ensure_mutable()\n\u001b[0;32m-> 1908\u001b[0m \u001b[38;5;28;43mself\u001b[39;49m\u001b[38;5;241;43m.\u001b[39;49m\u001b[43mim\u001b[49m\u001b[38;5;241;43m.\u001b[39;49m\u001b[43mputdata\u001b[49m\u001b[43m(\u001b[49m\u001b[43mdata\u001b[49m\u001b[43m,\u001b[49m\u001b[43m \u001b[49m\u001b[43mscale\u001b[49m\u001b[43m,\u001b[49m\u001b[43m \u001b[49m\u001b[43moffset\u001b[49m\u001b[43m)\u001b[49m\n",
      "\u001b[0;31mTypeError\u001b[0m: color must be int or tuple"
     ]
    }
   ],
   "source": [
    "from PIL import Image\n",
    "#import random, sys\n",
    "from time import time\n",
    "\n",
    "def quicker_sort(pixels):\n",
    "    pixels = np.array(pixels)\n",
    "    pix_cpy = pixels.copy()\n",
    "    pix_cpy = pix_cpy.sum(axis=1)\n",
    "    return pixels[pix_cpy.argsort()]\n",
    "\n",
    "def quick_sort(pixels):\n",
    "    #Quicksort function that sorts pixels based on combined RGB values (R + B + G)\n",
    "    if pixels == []:\n",
    "        return pixels\n",
    "\n",
    "    else:\n",
    "        pivot = pixels[0]\n",
    "        lesser = quick_sort([x for x in pixels[1:] if (x[0] + x[1] + x[2]) < (pivot[0] + pivot[1] + pivot[2])])\n",
    "        greater = quick_sort([x for x in pixels[1:] if (x[0] + x[1] + x[2]) >= (pivot[0] + pivot[1] + pivot[2])])\n",
    "        return lesser + [pivot] + greater\n",
    "\n",
    "# def quick_sort_arr(pixels)\n",
    "#     if pixels == np.array([]):\n",
    "#         return pixels\n",
    "#     else:\n",
    "#         pivot = pixels[0]\n",
    "#         lesser \n",
    "\n",
    "def sort_all(image):\n",
    "    img = Image.open(image)\n",
    "    img = img.convert('RGBA')\n",
    "    new = Image.new('RGBA', img.size)\n",
    "    pixels = np.asarray(img)\n",
    "    #pixels = img.getdata()\n",
    "    sorted_pixels = quicker_sort(pixels)\n",
    "    #print(sorted_pixels)\n",
    "    new.putdata(sorted_pixels)\n",
    "    new.save('output-sortall-vectorized.png')\n",
    "    return\n",
    " \n",
    "def sort_all_pixels(image):\n",
    "    #sorts every line of pixels\n",
    "    print(\"Sorting all pixels.\")\n",
    "    \n",
    "    print(\"Opening image...\")\n",
    "    tick = time()\n",
    "    img = Image.open(image)\n",
    "    img = img.convert('RGBA')\n",
    "    print(\"Get data...\")\n",
    "    data = img.load()\n",
    "\n",
    "    new = Image.new('RGBA', img.size)\n",
    "    tock = time()\n",
    "    print(\"Time to load image: \", tock-tick)\n",
    "    \n",
    "    tick = time()\n",
    "    pixels = []\n",
    "    sorted_pixels = []\n",
    "    print(\"Getting pixels...\")\n",
    "    #Load all of the pixels into the pixels list\n",
    "    for y in range(img.size[1]):\n",
    "        pixels.append([])\n",
    "        for x in range(img.size[0]):\n",
    "            pixels[y].append(data[x, y])\n",
    "    tock = time()\n",
    "    print(\"Time to get pixels: \", tock-tick)\n",
    "\n",
    "    tick = time()\n",
    "    print(\"Vectorized sorting pixels...\")\n",
    "    for y in range(img.size[1]):\n",
    "        sorted_pixels.append(quicker_sort(pixels[y]))\n",
    "    #print(sorted_pixels)\n",
    "    tock = time()\n",
    "    print(\"Time to vectorized sort: \", tock-tick)\n",
    "    \n",
    "    tick = time()\n",
    "    print(\"Placing pixels...\")\n",
    "    for y in range(img.size[1]):\n",
    "        for x in range(img.size[0]):\n",
    "            #print(type(sorted_pixels[y][x]), \"done\")\n",
    "            new.putpixel((x, y), tuple(sorted_pixels[y][x])) #apply the pixels to the new image\n",
    "    #new.putdata(sorted_pixels)\n",
    "    tock = time()\n",
    "    print(\"Time to place pixels: \", tock-tick)\n",
    "    print(\"Saving image...\")\n",
    "    new.save('output-sortall-vectorized.png')\n",
    "\n",
    "tick = time()\n",
    "#sys.setrecursionlimit(10000) #Increase the recursion depth limit. Without this, the script fails on larger images because quicksort recurses too much.\n",
    "sort_all_pixels(\"/Users/aleph/Downloads/IMG_4634.JPEG\")\n",
    "tock = time()\n",
    "print(\"{:.2f} seconds\".format(tock-tick))\n",
    "sort_all(\"/Users/aleph/Downloads/IMG_4634.JPEG\")"
   ]
  },
  {
   "cell_type": "code",
   "execution_count": 4,
   "metadata": {},
   "outputs": [],
   "source": [
    "def get_concat_v(im1, im2):\n",
    "    dst = Image.new('RGB', (im1.width, im1.height + im2.height))\n",
    "    dst.paste(im1, (0, 0))\n",
    "    dst.paste(im2, (0, im1.height))\n",
    "    return dst\n",
    "im1 = Image.open('./sonoshi_wp.png')\n",
    "im2 = Image.open('./output-sortall-vectorized.png')\n",
    "get_concat_v(im1, im2).save('./sonoshi_stack_storted.png')"
   ]
  },
  {
   "cell_type": "code",
   "execution_count": null,
   "metadata": {},
   "outputs": [],
   "source": [
    "def sort_all_pixels(image):\n",
    "    #sorts every line of pixels\n",
    "    print(\"Sorting all pixels.\")\n",
    "    \n",
    "    print(\"Opening image...\")\n",
    "    tick = time()\n",
    "    img = Image.open(image)\n",
    "    img = img.convert('RGBA')\n",
    "    print(\"Get data...\")\n",
    "    data = img.load()\n",
    "\n",
    "    new = Image.new('RGBA', img.size)\n",
    "    tock = time()\n",
    "    print(\"Time to load image: \", tock-tick)\n",
    "    \n",
    "    tick = time()\n",
    "    pixels = []\n",
    "    sorted_pixels = []\n",
    "    print(\"Getting pixels...\")\n",
    "    #Load all of the pixels into the pixels list\n",
    "    for y in range(img.size[1]):\n",
    "        pixels.append([])\n",
    "        for x in range(img.size[0]):\n",
    "            pixels[y].append(data[x, y])\n",
    "    tock = time()\n",
    "    print(\"Time to get pixels: \", tock-tick)\n",
    "\n",
    "    tick = time()\n",
    "    print(\"Recursively sorting pixels...\")\n",
    "    for y in range(img.size[1]):\n",
    "        sorted_pixels.append(quick_sort(pixels[y]))\n",
    "    tock = time()\n",
    "    print(\"Time to recursive sort: \", tock-tick)\n",
    "    \n",
    "    tick = time()\n",
    "    print(\"Placing pixels...\")\n",
    "    for y in range(img.size[1]):\n",
    "        for x in range(img.size[0]):\n",
    "            #print(type(sorted_pixels[y][x]), \"done\")\n",
    "            new.putpixel((x, y), tuple(sorted_pixels[y][x])) #apply the pixels to the new image\n",
    "    tock = time()\n",
    "    print(\"Time to place pixels: \", tock-tick)\n",
    "    print(\"Saving image...\")\n",
    "    new.save('output-sortall-recursive.png')\n",
    "    \n",
    "def random_sort_pixels(image, intensity):\n",
    "    #sorts pixels in a random fashion\n",
    "\n",
    "    if intensity > 100:\n",
    "        intensity = 100\n",
    "\n",
    "    print(\"Sorting \" + image + \" with intensity \" + str(intensity))\n",
    "\n",
    "    #Open the image, convert it to RGBA, get the pixels \n",
    "    print(\"Opening image...\")\n",
    "    img = Image.open(image)\n",
    "    img = img.convert('RGBA')\n",
    "    print(\"Get data...\")\n",
    "    data = img.load()\n",
    "\n",
    "    new = Image.new('RGBA', img.size)\n",
    "\n",
    "    pixels = []\n",
    "    sorted_pixels = []\n",
    "    print(\"Getting pixels...\")\n",
    "    #Load all of the pixels into the pixels list\n",
    "    for y in range(img.size[1]):\n",
    "        pixels.append([])\n",
    "        for x in range(img.size[0]):\n",
    "            pixels[y].append(data[x, y])\n",
    "\n",
    "    print(\"Quicksorting pixels...\")\n",
    "    for y in range(img.size[1]):\n",
    "        #pick different starting points for each line\n",
    "        if(random.randint(0, 100) > intensity):\n",
    "            sorted_pixels.append(pixels[y]) #Don't sort this line of pixels\n",
    "        else:\n",
    "            minsort = random.randint(3, len(pixels[y]) - 3) #pick the start of the sorted area on this pixel line\n",
    "            maxsort = random.randint(minsort, len(pixels[y]) - 1)# pick the end of the sorted area on this pixel line\n",
    "            sort = []\n",
    "            for x in range(minsort, maxsort):\n",
    "                sort.append(pixels[y][x]) \n",
    "\n",
    "            sort = quick_sort(sort) #sort the pixels by brightness\n",
    "\n",
    "            i = 0\n",
    "            for x in range(minsort, maxsort):\n",
    "                pixels[y][x] = sort[i]\n",
    "                i = i + 1\n",
    "\n",
    "            sorted_pixels.append(pixels[y])\n",
    "\n",
    "\n",
    "    print(\"Placing pixels...\")\n",
    "    for y in range(img.size[1]):\n",
    "        for x in range(img.size[0]):\n",
    "            new.putpixel((x, y), sorted_pixels[y][x]) #apply the pixels to the new image\n",
    "\n",
    "    print(\"Saving image...\")\n",
    "    new.save('output-sortrandom.png')\n",
    "\n",
    "def sort_pixels_pivot(image):\n",
    "    print (\"Sorting pixels on pivot.\")\n",
    "\n",
    "    #Open the image, convert it to RGBA, get the pixels \n",
    "    print(\"Opening image...\")\n",
    "    img = Image.open(image)\n",
    "    img = img.convert('RGBA')\n",
    "    print(\"Get data...\")\n",
    "    data = img.load()\n",
    "\n",
    "    new = Image.new('RGBA', img.size)\n",
    "\n",
    "    pixels = []\n",
    "    sorted_pixels = []\n",
    "    print(\"Getting pixels...\")\n",
    "    #Load all of the pixels into the pixels list\n",
    "    for y in range(img.size[1]):\n",
    "        pixels.append([])\n",
    "        for x in range(img.size[0]):\n",
    "            pixels[y].append(data[x, y])\n",
    "\n",
    "    print(\"Quicksorting pixels...\")\n",
    "\n",
    "    minsort = random.randint(3, img.size[0] - 3) #get sorting pivot\n",
    "    for y in range(img.size[1]):\n",
    "        maxsort = random.randint(minsort, len(pixels[y]) - 1) #pick the end of the sorted area on this pixel line\n",
    "        sort = []\n",
    "        for x in range(minsort, maxsort):\n",
    "            sort.append(pixels[y][x])\n",
    "        sort = quick_sort(sort) #sort the pixels by brightness\n",
    "\n",
    "        i = 0\n",
    "        for x in range(minsort, maxsort):\n",
    "            pixels[y][x] = sort[i]\n",
    "            i = i + 1\n",
    "\n",
    "        sorted_pixels.append(pixels[y])\n",
    "\n",
    "\n",
    "    print(\"Placing pixels...\")\n",
    "    for y in range(img.size[1]):\n",
    "        for x in range(img.size[0]):\n",
    "            new.putpixel((x, y), sorted_pixels[y][x]) #apply the pixels to the new image\n",
    "\n",
    "    print(\"Saving image...\")\n",
    "    new.save('output-sortpivot.png')\n",
    "    \n",
    "random_sort_pixels(\"/Users/sean/Downloads/spotted-lanternfly-nymphs-adults.jpg\", 100)\n",
    "sort_pixels_pivot(\"/Users/sean/Downloads/spotted-lanternfly-nymphs-adults.jpg\")"
   ]
  }
 ],
 "metadata": {
  "kernelspec": {
   "display_name": "Python 3 (ipykernel)",
   "language": "python",
   "name": "python3"
  },
  "language_info": {
   "codemirror_mode": {
    "name": "ipython",
    "version": 3
   },
   "file_extension": ".py",
   "mimetype": "text/x-python",
   "name": "python",
   "nbconvert_exporter": "python",
   "pygments_lexer": "ipython3",
   "version": "3.8.9"
  }
 },
 "nbformat": 4,
 "nbformat_minor": 4
}
