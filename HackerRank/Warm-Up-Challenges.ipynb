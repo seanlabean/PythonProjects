{
 "cells": [
  {
   "cell_type": "markdown",
   "metadata": {},
   "source": [
    "# Problem 1 - The Sock Merchant\n",
    "https://www.hackerrank.com/challenges/sock-merchant/problem?h_l=interview&playlist_slugs%5B%5D=interview-preparation-kit&playlist_slugs%5B%5D=warmup\n",
    "\n",
    "There is a large pile of socks that must be paired by color. Given an array of integers representing the color of each sock, determine how many pairs of socks with matching colors there are.\n",
    "\n",
    "**Example**\n",
    "\n",
    "    n = 7\n",
    "    ar = [1,2,1,2,1,3,2]\n",
    "\n",
    "There is one pair of color `1` and one color of `2`. There are three odd socks left, one of each color. The number of pairs is 2.\n",
    "\n",
    "**Function Description**\n",
    "\n",
    "Complete the sockMerchant function in the editor below.\n",
    "\n",
    "sockMerchant has the following parameter(s):\n",
    "\n",
    "* int `n`: the number of socks in the pile\n",
    "* int `ar[n]`: the colors of each sock\n",
    "\n",
    "**Returns**\n",
    "* int: the number of pairs\n",
    "\n",
    "**Input Format**\n",
    "\n",
    "The first line contains an integer `n`, the number of socks represented in `ar`.\n",
    "\n",
    "The second line contains `n` spaced-separated integers, `ar[i]`, the color-codes of socks in the pile\n",
    "\n",
    "**Constraints**\n",
    "* `1<n<100`\n",
    "* `1<ar[i]<100` where `0<i<n`"
   ]
  },
  {
   "cell_type": "code",
   "execution_count": 42,
   "metadata": {},
   "outputs": [
    {
     "name": "stdout",
     "output_type": "stream",
     "text": [
      "4\n"
     ]
    }
   ],
   "source": [
    "import math\n",
    "import os\n",
    "import random\n",
    "import re\n",
    "import sys\n",
    "\n",
    "#\n",
    "# Complete the 'sockMerchant' function below.\n",
    "#\n",
    "# The function is expected to return an INTEGER.\n",
    "# The function accepts following parameters:\n",
    "#  1. INTEGER n\n",
    "#  2. INTEGER_ARRAY ar\n",
    "#\n",
    "with open('./problem-data/sock-merchant-testcases/input/input08.txt') as f:\n",
    "    lines = f.read().splitlines()\n",
    "    num_socks = int(lines[0].strip())\n",
    "    list_colors = list(map(int,lines[1].split()))\n",
    "\n",
    "def sockMerchant(n, ar):\n",
    "    # Write your code here\n",
    "    assert len(ar) == n, \"Number of socks do not match list of colors, input data mismatched.\"\n",
    "    \n",
    "    colorset = list(set(ar))\n",
    "    pair_counter = 0\n",
    "    for color in colorset:\n",
    "        color_count = ar.count(color)\n",
    "        pair_counter += color_count // 2\n",
    "    return pair_counter\n",
    "\n",
    "num_pairs = sockMerchant(num_socks, list_colors)\n",
    "print(num_pairs)\n",
    "    "
   ]
  },
  {
   "cell_type": "markdown",
   "metadata": {},
   "source": [
    "# Problem 2 - Counting Valleys\n",
    "https://www.hackerrank.com/challenges/counting-valleys/problem?h_l=interview&playlist_slugs%5B%5D=interview-preparation-kit&playlist_slugs%5B%5D=warmup&h_r=next-challenge&h_v=zen\n",
    "\n",
    "An avid hiker keeps track of their hikes. During the last hike that took `steps` steps, for every step it was noted if it was uphill `U`, or downhill `D`. Hikes always start and end at sea level and each step up or down represents a change in `1` unit of altitude. We define the following terms:\n",
    "\n",
    "* A \"mountain\" is a sequence of consequtive steps above sea level, starting with a step up from sea level and ending with a step down to sea level\n",
    "* A \"valley\" is a sequence of consequtive steps below sea level, starting with a step down from sea level and ending with a step up to sea level.\n",
    "\n",
    "**Example**\n",
    "        \n",
    "    steps = 8 path = [DDUUUUDD]\n",
    "    The hiker first enters a valley 2 units deep, then they climb out and up a mountain 2 units high. Finally, the hiker returns to sea level and ends the hike.\n",
    "    \n",
    "**Function Description**\n",
    "\n",
    "    Complete the countingValleys() function.\n",
    "   countingValleys() has the following inputs:\n",
    "* int steps: the number of steps on the hike\n",
    "* string path: a string describing the path\n",
    "\n",
    "**Returns**\n",
    "* int: the number of valleys transversed\n",
    "\n",
    "**Input Format**\n",
    "\n",
    "The first line contains an integer `steps`.\n",
    "The second line contains a single string `path` of `steps` characters.\n",
    "\n",
    "**Constraints**\n",
    "* `2<steps<1e6`\n",
    "* `path[i] = U or D`\n",
    "\n",
    "**Sample input** \n",
    "\n",
    "```\n",
    "8\n",
    "UDDDUDUU\n",
    "```\n",
    "\n",
    "**Sample Output**\n",
    "\n",
    "```\n",
    "1\n",
    "```\n",
    "\n",
    "**Explanation**\n",
    "\n",
    "Representing _ as sea level, / as a step up and \\ as a step down:\n",
    "```\n",
    "_/\\      _\n",
    "   \\    /\n",
    "    \\/\\/\n",
    "```"
   ]
  },
  {
   "cell_type": "code",
   "execution_count": 9,
   "metadata": {},
   "outputs": [
    {
     "name": "stdout",
     "output_type": "stream",
     "text": [
      "12\n",
      "DDUUDDUDUUUD\n"
     ]
    },
    {
     "data": {
      "text/plain": [
       "2"
      ]
     },
     "execution_count": 9,
     "metadata": {},
     "output_type": "execute_result"
    }
   ],
   "source": [
    "import os\n",
    "import random\n",
    "import re\n",
    "import sys\n",
    "\n",
    "#\n",
    "# Complete the 'countingValleys' function below.\n",
    "#\n",
    "# The function is expected to return an INTEGER.\n",
    "# The function accepts following parameters:\n",
    "#  1. INTEGER steps\n",
    "#  2. STRING path\n",
    "#\n",
    "\n",
    "with open('./problem-data/counting-valleys-testcases/input/input01.txt') as f:\n",
    "    lines = f.read().splitlines()\n",
    "    steps = int(lines[0].strip())\n",
    "    path = lines[1]\n",
    "print(steps)\n",
    "print(path)\n",
    "def countingValleys(steps, path):\n",
    "    # Write your code here\n",
    "    elev = 0\n",
    "    valley_count = 0\n",
    "    for step in path:\n",
    "        if elev == -1 and step == 'U':\n",
    "            valley_count += 1\n",
    "        if step == 'U':\n",
    "            elev +=1\n",
    "        else:\n",
    "            elev -= 1\n",
    "    return valley_count\n",
    "\n",
    "countingValleys(steps, path)\n",
    "        "
   ]
  },
  {
   "cell_type": "markdown",
   "metadata": {},
   "source": [
    "# Problem 3: Jumping on Clouds\n",
    "\n",
    "https://www.hackerrank.com/challenges/jumping-on-the-clouds/problem?h_l=interview&playlist_slugs%5B%5D=interview-preparation-kit&playlist_slugs%5B%5D=warmup&h_r=next-challenge&h_v=zen&h_r=next-challenge&h_v=zen\n",
    "\n",
    "There is a new game that starts with consecutively numbered clouds. Some of the clouds are thunderheads and others are cumulus. The player can jump on any cumulus cloud having a number that is equal to the number of the current cloud plus 1 or 2. The player must avoid thunderheads. Determine the minimum number of jumps it will take to jump from the starting position to the last cloud. It is always possible to win the game.\n",
    "\n",
    "For each game, you will get an array of clouds numbered 0 if they are safe or 1 if they must be avoided.\n",
    "\n",
    "**Example**\n",
    "\n",
    "`c = [0,1,0,0,0,1,0]`\n",
    "Index the array from 0...6. The number on each cloud is its index in the list so the player must avoid the clouds at indices 1 and 5. They could therefore follow these two paths 0->2->4->6 or 0->2->3->4->6. The first path takes 3 jumps while the second takes 4. Return 3.\n",
    "\n",
    "**Function Description** \n",
    "\n",
    "Compleste the JumpingOnClouds function with the parameters:\n",
    "* int c[n]: an array of binary integers\n",
    "\n",
    "**Returns**\n",
    "* int: the minimum number of jumps required\n",
    "\n",
    "**Input Format**\n",
    "\n",
    "The first line contains an integer n, the total number of clouds. The second line contains n space-separated binary integers describing clouds c[i] where 0<i<n.\n",
    "\n",
    "**Constraints**\n",
    "\n",
    "* 2 < n < 100\n",
    "* c[i] either {0,1}\n",
    "* c[0] = c[n-1]=0\n",
    "\n",
    "**Output Format**\n",
    "\n",
    "Print the minimum number of jumps needed to win the game."
   ]
  },
  {
   "cell_type": "code",
   "execution_count": 18,
   "metadata": {},
   "outputs": [
    {
     "name": "stdout",
     "output_type": "stream",
     "text": [
      "6\n"
     ]
    },
    {
     "data": {
      "text/plain": [
       "3"
      ]
     },
     "execution_count": 18,
     "metadata": {},
     "output_type": "execute_result"
    }
   ],
   "source": [
    "import math\n",
    "import os\n",
    "import random\n",
    "import re\n",
    "import sys\n",
    "\n",
    "c = './problem-data/jumping-on-the-clouds-testcases/input/input01.txt'\n",
    "\n",
    "def jumpingOnClouds(c):\n",
    "    \n",
    "    with open(c) as f:\n",
    "        lines = f.read().splitlines()\n",
    "        num_clouds = int(lines[0].strip())\n",
    "        list_clouds = list(map(int,lines[1].split()))\n",
    "    current_cloud = 0\n",
    "    num_jumps = 0\n",
    "    while current_cloud < num_clouds-1:\n",
    "        jumped = False\n",
    "        list_clouds.append(1) # adding buffer so long jump search finds something at end of list.\n",
    "        \n",
    "        if list_clouds[current_cloud+2] == 0:\n",
    "            current_cloud += 2\n",
    "            num_jumps += 1\n",
    "            jumped = True\n",
    "        elif list_clouds[current_cloud+1] == 0 and jumped == False:\n",
    "            current_cloud += 1\n",
    "            num_jumps += 1\n",
    "        else:\n",
    "            print(\"There's no available cloud to jump to! Aborting.\")\n",
    "            break\n",
    "    return num_jumps\n",
    "jumpingOnClouds(c)"
   ]
  },
  {
   "cell_type": "markdown",
   "metadata": {},
   "source": [
    "# Problem 4: Repeated String\n",
    "There is a string, `s`, of lowercase English letters that is repeated infinitely many times. Given an integer, `n`, find and print the number of letter a's in the first n integers of the infinite string.\n",
    "\n",
    "#### Example\n",
    "`s=abcac`\n",
    "\n",
    "`n=10`\n",
    "\n",
    "The substring we consider is `abcacabcac`, the first 10 characters of the infinite string. There are 4 occurences of the letter a in the substring.\n",
    "\n",
    "#### Function Description\n",
    "Complete repeatedString function.\n",
    "\n",
    "repeatedString has the following parameters:\n",
    "* s: a string to repeat\n",
    "* n: the number of characters to consider\n",
    "\n",
    "#### Returns\n",
    "* int: the frequency of a in the string\n",
    "\n",
    "#### Input Format\n",
    "The first line contains a single string, `s`\n",
    "\n",
    "The second line contains an integer, `n`\n",
    "\n",
    "#### Constraints\n",
    "* 1<s<100\n",
    "* 1<n<10$^{12}$\n",
    "* For 25% of test cases, n < 10$^{6}$\n"
   ]
  },
  {
   "cell_type": "code",
   "execution_count": null,
   "metadata": {
    "collapsed": true
   },
   "outputs": [],
   "source": []
  }
 ],
 "metadata": {
  "kernelspec": {
   "display_name": "Python 2",
   "language": "python",
   "name": "python2"
  },
  "language_info": {
   "codemirror_mode": {
    "name": "ipython",
    "version": 2
   },
   "file_extension": ".py",
   "mimetype": "text/x-python",
   "name": "python",
   "nbconvert_exporter": "python",
   "pygments_lexer": "ipython2",
   "version": "2.7.3"
  }
 },
 "nbformat": 4,
 "nbformat_minor": 4
}
