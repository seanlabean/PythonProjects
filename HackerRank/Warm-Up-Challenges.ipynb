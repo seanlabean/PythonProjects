{
 "cells": [
  {
   "cell_type": "markdown",
   "metadata": {},
   "source": [
    "# Problem 1 - The Sock Merchant\n",
    "https://www.hackerrank.com/challenges/sock-merchant/problem?h_l=interview&playlist_slugs%5B%5D=interview-preparation-kit&playlist_slugs%5B%5D=warmup\n",
    "\n",
    "There is a large pile of socks that must be paired by color. Given an array of integers representing the color of each sock, determine how many pairs of socks with matching colors there are.\n",
    "\n",
    "**Example**\n",
    "\n",
    "    n = 7\n",
    "    ar = [1,2,1,2,1,3,2]\n",
    "\n",
    "There is one pair of color 1 and one color of 2. There are three odd socks left, one of each color. The number of pairs is 2.\n",
    "\n",
    "**Function Description**\n",
    "\n",
    "Complete the sockMerchant function in the editor below.\n",
    "\n",
    "sockMerchant has the following parameter(s):\n",
    "\n",
    "* int n: the number of socks in the pile\n",
    "* int ar[n]: the colors of each sock\n",
    "\n",
    "**Returns**\n",
    "* int: the number of pairs\n",
    "\n",
    "**Input Format**\n",
    "\n",
    "The first line contains an integer n, the number of socks represented in ar.\n",
    "\n",
    "The second line contains n spaced-separated integers, ar[i], the color-codes of socks in the pile\n",
    "\n",
    "**Constraints**\n",
    "* 1<n<100\n",
    "* 1<ar[i]<100 where 0<i<n"
   ]
  },
  {
   "cell_type": "code",
   "execution_count": 42,
   "metadata": {},
   "outputs": [
    {
     "name": "stdout",
     "output_type": "stream",
     "text": [
      "4\n"
     ]
    }
   ],
   "source": [
    "import math\n",
    "import os\n",
    "import random\n",
    "import re\n",
    "import sys\n",
    "\n",
    "#\n",
    "# Complete the 'sockMerchant' function below.\n",
    "#\n",
    "# The function is expected to return an INTEGER.\n",
    "# The function accepts following parameters:\n",
    "#  1. INTEGER n\n",
    "#  2. INTEGER_ARRAY ar\n",
    "#\n",
    "with open('./problem-data/sock-merchant-testcases/input/input08.txt') as f:\n",
    "    lines = f.read().splitlines()\n",
    "    num_socks = int(lines[0].strip())\n",
    "    list_colors = list(map(int,lines[1].split()))\n",
    "\n",
    "def sockMerchant(n, ar):\n",
    "    # Write your code here\n",
    "    assert len(ar) == n, \"Number of socks do not match list of colors, input data mismatched.\"\n",
    "    \n",
    "    colorset = list(set(ar))\n",
    "    pair_counter = 0\n",
    "    for color in colorset:\n",
    "        color_count = ar.count(color)\n",
    "        pair_counter += color_count // 2\n",
    "    return pair_counter\n",
    "\n",
    "num_pairs = sockMerchant(num_socks, list_colors)\n",
    "print(num_pairs)\n",
    "    "
   ]
  },
  {
   "cell_type": "markdown",
   "metadata": {},
   "source": [
    "# Probelm 2 - Counting Valleys\n",
    "https://www.hackerrank.com/challenges/counting-valleys/problem?h_l=interview&playlist_slugs%5B%5D=interview-preparation-kit&playlist_slugs%5B%5D=warmup&h_r=next-challenge&h_v=zen\n",
    "\n"
   ]
  },
  {
   "cell_type": "code",
   "execution_count": null,
   "metadata": {},
   "outputs": [],
   "source": []
  }
 ],
 "metadata": {
  "kernelspec": {
   "display_name": "Python 3",
   "language": "python",
   "name": "python3"
  },
  "language_info": {
   "codemirror_mode": {
    "name": "ipython",
    "version": 3
   },
   "file_extension": ".py",
   "mimetype": "text/x-python",
   "name": "python",
   "nbconvert_exporter": "python",
   "pygments_lexer": "ipython3",
   "version": "3.7.7"
  }
 },
 "nbformat": 4,
 "nbformat_minor": 4
}
